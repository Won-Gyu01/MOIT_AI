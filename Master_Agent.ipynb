{
 "cells": [
  {
   "cell_type": "code",
   "execution_count": 2,
   "id": "a6158205",
   "metadata": {},
   "outputs": [
    {
     "name": "stdout",
     "output_type": "stream",
     "text": [
      ".env 파일이 로드되었습니다.\n",
      "마스터 에이전트의 AgentState가 정의되었습니다.\n"
     ]
    }
   ],
   "source": [
    "# 2. .env 파일에서 API 키를 불러옵니다.\n",
    "import os\n",
    "from dotenv import load_dotenv\n",
    "\n",
    "load_dotenv()\n",
    "print(\".env 파일이 로드되었습니다.\")\n",
    "\n",
    "# 3. 전체 시스템의 기억 상자(State)를 정의합니다.\n",
    "from typing import TypedDict, List, Optional\n",
    "from langchain_core.documents import Document\n",
    "\n",
    "class AgentState(TypedDict):\n",
    "    # --- 공통 입력 ---\n",
    "    # 사용자의 초기 요청 (채팅 또는 모임 등록 정보)\n",
    "    # Optional[]은 값이 있을 수도, 없을 수도 있다는 의미입니다.\n",
    "    user_input: dict\n",
    "    \n",
    "    # --- 라우팅 결과 ---\n",
    "    # 어떤 전문가에게 일을 보낼지 결정\n",
    "    route: str\n",
    "\n",
    "    # --- 전문가 에이전트들과 주고받을 데이터 ---\n",
    "    # 모임 매칭 에이전트용 데이터\n",
    "    title: Optional[str]\n",
    "    description: Optional[str]\n",
    "    \n",
    "    # 취미 탐색 에이전트용 데이터\n",
    "    # (설문조사 질문/답변, 최종 추천 결과 등)\n",
    "    hobby_reco_session: Optional[dict]\n",
    "    \n",
    "    # --- 최종 결과 ---\n",
    "    final_answer: str\n",
    "\n",
    "print(\"마스터 에이전트의 AgentState가 정의되었습니다.\")"
   ]
  },
  {
   "cell_type": "code",
   "execution_count": 3,
   "id": "592e4bf9",
   "metadata": {},
   "outputs": [
    {
     "name": "stdout",
     "output_type": "stream",
     "text": [
      "LLM 모델이 준비되었습니다.\n",
      "라우터 노드가 정의되었습니다.\n"
     ]
    }
   ],
   "source": [
    "# --- 셀 2: 라우터 노드 정의 ---\n",
    "\n",
    "from langchain_openai import ChatOpenAI\n",
    "from langchain_core.prompts import ChatPromptTemplate\n",
    "from langchain_core.output_parsers import StrOutputParser\n",
    "\n",
    "# 1. LLM 모델을 준비합니다.\n",
    "llm = ChatOpenAI(model=\"gpt-4o-mini\")\n",
    "print(\"LLM 모델이 준비되었습니다.\")\n",
    "\n",
    "# 2. 라우팅을 위한 프롬프트 템플릿을 만듭니다.\n",
    "# LLM에게 사용자의 요청을 보여주고, 두 가지 선택지 중 하나를 고르게 합니다.\n",
    "routing_prompt = ChatPromptTemplate.from_template(\n",
    "    \"\"\"당신은 사용자의 요청을 분석하여 어떤 담당자에게 전달해야 할지 결정하는 AI 라우터입니다.\n",
    "    사용자의 요청을 보고, 아래 두 가지 경로 중 가장 적절한 경로 하나만 골라 그 이름만 정확히 답변해주세요.\n",
    "\n",
    "    [경로 설명]\n",
    "    1. `meeting_matching`: 사용자가 '새로운 모임'을 만들려고 할 때, 기존에 있던 '유사한 모임'을 추천해주는 경로입니다. (입력에 title, description 등이 포함됩니다)\n",
    "    2. `hobby_recommendation`: 사용자에게 '새로운 취미' 자체를 추천해주는 경로입니다. (사용자가 채팅으로 \"취미 추천해줘\" 와 같이 질문합니다)\n",
    "\n",
    "    [사용자 요청]:\n",
    "    {user_input}\n",
    "\n",
    "    [판단 결과 (meeting_matching 또는 hobby_recommendation)]:\n",
    "    \"\"\"\n",
    ")\n",
    "\n",
    "# 3. LLM의 답변을 문자열로 받기 위한 체인을 만듭니다.\n",
    "router_chain = routing_prompt | llm | StrOutputParser()\n",
    "\n",
    "# 4. 라우터 노드 함수를 정의합니다.\n",
    "def route_request(state: AgentState):\n",
    "    \"\"\"사용자의 입력을 보고 어떤 전문가에게 보낼지 결정합니다.\"\"\"\n",
    "    print(\"--- ROUTING ---\")\n",
    "    \n",
    "    user_input = state['user_input']\n",
    "    \n",
    "    # LLM을 호출하여 라우팅 결정을 내립니다.\n",
    "    route_decision = router_chain.invoke({\"user_input\": user_input})\n",
    "    \n",
    "    # 불필요한 공백이나 따옴표를 제거합니다.\n",
    "    cleaned_decision = route_decision.strip().replace(\"'\", \"\").replace('\"', '')\n",
    "    \n",
    "    print(f\"라우팅 결정: {cleaned_decision}\")\n",
    "    \n",
    "    # 결정된 경로를 AgentState에 저장합니다.\n",
    "    return {\"route\": cleaned_decision}\n",
    "\n",
    "print(\"라우터 노드가 정의되었습니다.\")"
   ]
  },
  {
   "cell_type": "code",
   "execution_count": null,
   "id": "1b00d703",
   "metadata": {},
   "outputs": [],
   "source": []
  }
 ],
 "metadata": {
  "kernelspec": {
   "display_name": "MOIT_graph",
   "language": "python",
   "name": "python3"
  },
  "language_info": {
   "codemirror_mode": {
    "name": "ipython",
    "version": 3
   },
   "file_extension": ".py",
   "mimetype": "text/x-python",
   "name": "python",
   "nbconvert_exporter": "python",
   "pygments_lexer": "ipython3",
   "version": "3.13.7"
  }
 },
 "nbformat": 4,
 "nbformat_minor": 5
}
