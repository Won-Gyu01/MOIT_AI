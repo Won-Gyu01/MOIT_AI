{
 "cells": [
  {
   "cell_type": "code",
   "execution_count": 1,
   "id": "de1f4b3e",
   "metadata": {},
   "outputs": [
    {
     "name": "stdout",
     "output_type": "stream",
     "text": [
      "Note: you may need to restart the kernel to use updated packages.\n"
     ]
    }
   ],
   "source": [
    "%pip install -qU google-generativeai python-dotenv pillow"
   ]
  },
  {
   "cell_type": "code",
   "execution_count": 1,
   "id": "ed8e8818",
   "metadata": {},
   "outputs": [
    {
     "name": "stdout",
     "output_type": "stream",
     "text": [
      "Google API 키가 성공적으로 설정되었습니다.\n"
     ]
    },
    {
     "name": "stderr",
     "output_type": "stream",
     "text": [
      "c:\\Users\\user\\anaconda3\\envs\\moit_agent_env\\Lib\\site-packages\\tqdm\\auto.py:21: TqdmWarning: IProgress not found. Please update jupyter and ipywidgets. See https://ipywidgets.readthedocs.io/en/stable/user_install.html\n",
      "  from .autonotebook import tqdm as notebook_tqdm\n"
     ]
    }
   ],
   "source": [
    "import os\n",
    "from dotenv import load_dotenv\n",
    "import google.generativeai as genai\n",
    "from PIL import Image # 이미지 파일을 다루기 위한 라이브러리 추가\n",
    "\n",
    "load_dotenv()\n",
    "try:\n",
    "    api_key = os.getenv(\"GOOGLE_API_KEY\")\n",
    "    if not api_key:\n",
    "        raise ValueError(\"GOOGLE_API_KEY가 .env 파일에 없습니다.\")\n",
    "    genai.configure(api_key=api_key)\n",
    "    print(\"Google API 키가 성공적으로 설정되었습니다.\")\n",
    "except Exception as e:\n",
    "    print(f\"API 키 설정에 문제가 있습니다: {e}\")"
   ]
  },
  {
   "cell_type": "code",
   "execution_count": null,
   "id": "0cc415a9",
   "metadata": {},
   "outputs": [
    {
     "name": "stdout",
     "output_type": "stream",
     "text": [
      "멀티모달 모델 'models/gemini-2.5-flash'이 준비되었습니다.\n",
      "프롬프트가 준비되었습니다.\n"
     ]
    }
   ],
   "source": [
    "# --- 셀 2: 멀티모달 모델 및 프롬프트 정의 ---\n",
    "\n",
    "# 1. 멀티모달 모델(gemini-1.5-flash)을 준비합니다.\n",
    "model = genai.GenerativeModel('gemini-2.5-flash')\n",
    "print(f\"멀티모달 모델 '{model.model_name}'이 준비되었습니다.\")\n",
    "\n",
    "# 2. AI에게 내릴 업무 지시서(프롬프트)를 작성합니다.\n",
    "vision_prompt_text = \"\"\"\n",
    "당신은 사용자의 일상 사진과 간단한 설문 결과를 보고, 그 사람에게 가장 잘 어울릴 것 같은 새로운 취미를 창의적으로 추천하는 라이프스타일 큐레이터입니다.\n",
    "\n",
    "[사용자 정보]\n",
    "- 설문 답변: {survey}\n",
    "- 아래 제공된 사진들\n",
    "\n",
    "[지시사항]\n",
    "1. 주어진 사진들 속 인물, 사물, 배경, 분위기를 종합적으로 분석하여 이 사람의 잠재적인 관심사와 성향을 추측하세요.\n",
    "2. 설문 답변과 사진 분석 결과를 종합적으로 고려하여, 이 사람에게 가장 잘 어울릴 만한 취미 3가지를 추천해주세요.\n",
    "3. 각 취미에 대해 \"왜\" 이 취미를 추천하는지, 사진 속 단서와 설문 결과를 근거로 설득력 있게 설명해주세요.\n",
    "4. 최종 답변은 친절하고 따뜻한 말투의 추천 문장으로 작성해주세요.\n",
    "\"\"\"\n",
    "\n",
    "print(\"프롬프트가 준비되었습니다.\")"
   ]
  },
  {
   "cell_type": "code",
   "execution_count": 8,
   "id": "508d887a",
   "metadata": {},
   "outputs": [
    {
     "name": "stdout",
     "output_type": "stream",
     "text": [
      "\n",
      "--- AI가 사진을 분석하고 취미를 추천하는 중입니다... ---\n",
      "\n",
      "--- AI의 최종 추천 결과 ---\n",
      "안녕하세요! 라이프스타일 큐레이터입니다. 보내주신 소중한 사진들과 설문 답변을 꼼꼼히 살펴보았습니다. 활기찬 에너지와 함께 세상과 소통하고 싶은 고객님의 멋진 모습이 느껴져 저도 즐거운 마음으로 분석했어요.\n",
      "\n",
      "**[사진 및 설문 종합 분석]**\n",
      "\n",
      "*   **사진 1 (헬스장):** 깔끔하고 잘 정돈된 헬스장의 모습에서 꾸준히 자기 관리를 하고 체력을 단련하는 것을 중요하게 생각하시는 분이라는 인상을 받았습니다. 운동을 통해 얻는 성취감과 건강을 추구하는 성향이 엿보여요.\n",
      "*   **사진 2 (풋살장):** 여러 사람과 함께 활발하게 풋살 경기를 즐기는 모습이 인상적입니다. '실내보단 주로 밖에서 다양한 것을 보고 사람을 만나는 것을 즐김'이라는 설문 답변과 완벽하게 부합하는 사진이에요. 팀 스포츠를 통해 얻는 협동심과 경쟁의 즐거움, 그리고 탁 트인 공간에서의 활동을 선호하심을 알 수 있습니다.\n",
      "*   **설문 답변:**\n",
      "    *   **'실내보단 주로 밖에서 다양한 것을 보고 사람을 만나는 것을 즐김':** 야외 활동과 사회적 교류를 매우 중요하게 생각하시는군요. 새로운 풍경을 접하고 사람들과 어울리는 데서 큰 에너지를 얻으시는 분으로 보입니다.\n",
      "    *   **'익숙한 것을 더 좋아하지만, 가끔 새로운 시도도 즐김':** 완전히 생소한 것보다는 익숙한 틀 안에서 변화를 주거나, 새로운 도전을 즐기는 균형 잡힌 성향을 가지고 계시네요.\n",
      "\n",
      "이 모든 정보를 종합해 볼 때, 고객님께서는 활동적인 라이프스타일을 즐기며, 사람들과의 교류를 통해 에너지를 얻고, 새로운 환경을 탐험하는 것을 좋아하는 분으로 판단됩니다. 건강하고 활기찬 삶을 추구하면서도, 때로는 신선한 자극을 즐기는 성향이시죠!\n",
      "\n",
      "---\n",
      "\n",
      "이러한 분석을 바탕으로, 고객님의 일상에 더욱 활력과 즐거움을 더해줄 새로운 취미 3가지를 추천해 드립니다!\n",
      "\n",
      "### **추천 취미 1: 도심 러닝 크루 가입 또는 트레일 러닝**\n",
      "\n",
      "*   **왜 추천할까요?**\n",
      "    *   **신체 활동 & 아웃도어:** 헬스장과 풋살 사진에서 알 수 있듯, 운동을 즐기시는 고객님께 '러닝'은 익숙하면서도 강력한 유산소 운동입니다. '실내보단 주로 밖에서' 활동을 선호하신다는 점과 완벽하게 맞아떨어져요.\n",
      "    *   **사람들과의 교류 & 다양한 경험:** 러닝 크루에 가입하면 새로운 사람들을 만나 함께 훈련하고 소통하며, 설문 답변처럼 '사람을 만나는 것을 즐김'을 충족할 수 있습니다. 또한, 도심 곳곳을 달리며 미처 몰랐던 풍경을 발견하거나, 주말에 근교 트레일 러닝을 통해 자연 속에서 '다양한 것을 보고' 새로운 경험을 쌓을 수 있습니다. 익숙한 러닝에 '크루'라는 사회적 요소와 '새로운 장소'라는 탐험 요소를 더해 '가끔 새로운 시도도 즐김'이라는 고객님의 성향을 만족시킬 거예요.\n",
      "\n",
      "### **추천 취미 2: 디스크 골프 (Disc Golf)**\n",
      "\n",
      "*   **왜 추천할까요?**\n",
      "    *   **아웃도어 & 신체 활동:** 풋살 사진처럼 야외 활동을 선호하시는 고객님께 안성맞춤입니다. 공원이나 숲 등 탁 트인 자연 속에서 즐기는 스포츠로, 아름다운 풍경을 '다양하게 보고' 즐길 수 있어요. 걷는 활동이 많아 운동량도 상당하며, 팔을 사용하는 동작은 헬스장에서 단련한 근력을 활용하기에도 좋습니다.\n",
      "    *   **사람들과의 교류 & 새로운 시도:** 친구들과 함께하거나 동호회에 가입하여 새로운 사람들을 만나는 '사회적 교류'가 활발한 스포츠입니다. 아직 한국에서는 매우 대중적이지 않기에, 고객님께서 '가끔 새로운 시도도 즐김'이라고 하신 것처럼 신선하면서도 도전적인 즐거움을 선사할 것입니다. 골프처럼 복잡한 장비가 필요 없어 진입 장벽도 낮아요!\n",
      "\n",
      "### **추천 취미 3: 볼더링/클라이밍 클럽 가입 (주말 야외 클라이밍 병행)**\n",
      "\n",
      "*   **왜 추천할까요?**\n",
      "    *   **신체 활동 & 도전:** 헬스장 사진에서 보인 고객님의 꾸준한 운동 습관과 강인함은 클라이밍에 필요한 근력과 집중력으로 이어질 수 있습니다. 팔다리의 전신 근육을 사용하며 문제 해결 능력을 요하는 볼더링/클라이밍은 강도 높은 신체 활동을 통해 성취감을 얻는 데 매우 효과적입니다.\n",
      "    *   **사람들과의 교류 & 새로운 경험:** 클라이밍은 안전을 위해 서로를 지켜봐 주고 격려하는 문화가 강해 '사람을 만나는 것을 즐김'이라는 고객님의 성향과 잘 맞습니다. 실내 클라이밍으로 기본기를 다지다가, 설문 답변처럼 '가끔 새로운 시도도 즐김'을 원하실 때 주말에 클라이밍 클럽과 함께 자연 암벽으로 야외 클라이밍을 떠나는 경험은 '다양한 것을 보고' 싶은 욕구를 충족시키며 잊지 못할 추억을 선사할 거예요.\n",
      "\n",
      "---\n",
      "\n",
      "고객님의 활기찬 삶에 이 취미들이 더욱 풍성한 즐거움을 안겨드리기를 진심으로 바랍니다. 어떤 취미든 시작은 설렘 가득한 새로운 도전이 될 테니, 꼭 한 번 경험해 보시길 추천해요! 😊\n"
     ]
    }
   ],
   "source": [
    "# --- 셀 3: 실제 테스트 실행 ---\n",
    "\n",
    "# 1. 테스트용 입력 데이터를 준비합니다.\n",
    "\n",
    "# (예시) 간단한 설문 데이터\n",
    "sample_survey = {\n",
    "    \"선호하는 활동\": \"실내보단 주로 밖에서 다양한 것을 보고 사람을 만나는 것을 즐김\",\n",
    "    \"새로운 경험에 대한 태도\": \"익숙한 것을 더 좋아하지만, 가끔 새로운 시도도 즐김\"\n",
    "}\n",
    "\n",
    "# (중요!) 테스트에 사용할 실제 이미지 파일들의 경로를 여기에 입력해주세요.\n",
    "# 예: \"C:/Users/user/Pictures/my_photo_1.jpg\"\n",
    "image_file_paths = [\n",
    "    r\"C:\\Users\\user\\Documents\\카카오톡 받은 파일\\KakaoTalk_20251014_135916907_02.png\",\n",
    "    r\"C:\\Users\\user\\Documents\\카카오톡 받은 파일\\KakaoTalk_20251014_135916907.png\",\n",
    "]\n",
    "\n",
    "# 2. AI에게 전달할 최종 입력 데이터를 구성합니다.\n",
    "prompt = vision_prompt_text.format(survey=sample_survey)\n",
    "image_parts = []\n",
    "\n",
    "try:\n",
    "    if not image_file_paths:\n",
    "        print(\"분석할 이미지가 없습니다. 'image_file_paths' 리스트에 이미지 파일 경로를 추가해주세요.\")\n",
    "    else:\n",
    "        for path in image_file_paths:\n",
    "            img = Image.open(path)\n",
    "            image_parts.append(img)\n",
    "        \n",
    "        # 3. 이미지와 프롬프트를 함께 모델에 전달하여 실행!\n",
    "        print(\"\\n--- AI가 사진을 분석하고 취미를 추천하는 중입니다... ---\")\n",
    "        response = model.generate_content([prompt] + image_parts)\n",
    "        \n",
    "        # 4. 최종 결과 출력\n",
    "        print(\"\\n--- AI의 최종 추천 결과 ---\")\n",
    "        print(response.text)\n",
    "\n",
    "except FileNotFoundError as e:\n",
    "    print(f\"오류: 이미지 파일을 찾을 수 없습니다. 경로를 확인해주세요. ({e})\")\n",
    "except Exception as e:\n",
    "    print(f\"AI 실행 중 오류가 발생했습니다: {e}\")"
   ]
  },
  {
   "cell_type": "code",
   "execution_count": null,
   "id": "bcf62de3",
   "metadata": {},
   "outputs": [],
   "source": []
  }
 ],
 "metadata": {
  "kernelspec": {
   "display_name": "moit_agent_env",
   "language": "python",
   "name": "python3"
  },
  "language_info": {
   "codemirror_mode": {
    "name": "ipython",
    "version": 3
   },
   "file_extension": ".py",
   "mimetype": "text/x-python",
   "name": "python",
   "nbconvert_exporter": "python",
   "pygments_lexer": "ipython3",
   "version": "3.11.13"
  }
 },
 "nbformat": 4,
 "nbformat_minor": 5
}
